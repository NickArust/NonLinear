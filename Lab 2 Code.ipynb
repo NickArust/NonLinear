{
  "nbformat": 4,
  "nbformat_minor": 0,
  "metadata": {
    "colab": {
      "name": "Copy of Chaos_Game.ipynb",
      "provenance": []
    },
    "kernelspec": {
      "name": "python3",
      "display_name": "Python 3"
    }
  },
  "cells": [
    {
      "cell_type": "code",
      "metadata": {
        "id": "tFcuQY63kEGS",
        "colab_type": "code",
        "colab": {}
      },
      "source": [
        "!pip install git+https://github.com/williamedwardhahn/mpcr\n",
        "from mpcr import *\n",
        "#import needed things"
      ],
      "execution_count": null,
      "outputs": []
    },
    {
      "cell_type": "markdown",
      "metadata": {
        "id": "eaThoU3V71_Y",
        "colab_type": "text"
      },
      "source": [
        "#Part 1"
      ]
    },
    {
      "cell_type": "code",
      "metadata": {
        "id": "f0j1EOx_sXdy",
        "colab_type": "code",
        "colab": {
          "base_uri": "https://localhost:8080/",
          "height": 282
        },
        "outputId": "2f876c18-5cd1-46b3-b99e-26a155dcb612"
      },
      "source": [
        "def midpoint(P, Q):\n",
        "    return (0.5*(P[0] + Q[0]), 0.5*(P[1] + Q[1]))\n",
        "#avg of the inputs and the outpus\n",
        "\n",
        "vertices = [(0, 0), (2,2*np.sqrt(3)), (4, 0)]\n",
        "n = 2500 # Change this value and see what happens\n",
        "#creates a triangle w the given verticies\n",
        "\n",
        "x = [0]*n #creates two lists with n slots and fills the first slots with random numbers\n",
        "y = [0]*n\n",
        "x[0] = random()\n",
        "y[0] = random()\n",
        "\n",
        "for i in range(1, n):\n",
        "    x[i], y[i] = midpoint( vertices[randint(0, 2)], (x[i-1], y[i-1])) #fills the rest of the list with the values obtained from the midpoints\n",
        "plt.scatter(x, y, color = 'b', s=1) #plots\n",
        "#woah its serpenskis triangle"
      ],
      "execution_count": 91,
      "outputs": [
        {
          "output_type": "execute_result",
          "data": {
            "text/plain": [
              "<matplotlib.collections.PathCollection at 0x7f3b2e872a90>"
            ]
          },
          "metadata": {
            "tags": []
          },
          "execution_count": 91
        },
        {
          "output_type": "display_data",
          "data": {
            "image/png": "[encoded data removed]",
            "text/plain": [
              "<Figure size 432x288 with 1 Axes>"
            ]
          },
          "metadata": {
            "tags": [],
            "needs_background": "light"
          }
        }
      ]
    },
    {
      "cell_type": "code",
      "metadata": {
        "id": "McIkvGZiqPdd",
        "colab_type": "code",
        "colab": {}
      },
      "source": [
        ""
      ],
      "execution_count": null,
      "outputs": []
    },
    {
      "cell_type": "code",
      "metadata": {
        "id": "7j2F9PfF7yse",
        "colab_type": "code",
        "colab": {}
      },
      "source": [
        ""
      ],
      "execution_count": null,
      "outputs": []
    },
    {
      "cell_type": "code",
      "metadata": {
        "id": "L6jVdRab7PW2",
        "colab_type": "code",
        "colab": {}
      },
      "source": [
        "#Bonus: Try to extend this code to create patterns like these"
      ],
      "execution_count": null,
      "outputs": []
    },
    {
      "cell_type": "markdown",
      "metadata": {
        "id": "7DkPd-kC7p_C",
        "colab_type": "text"
      },
      "source": [
        "<img src ='http://math.hws.edu/eck/js/chaos-game/exercises.png'>\n",
        "\n"
      ]
    },
    {
      "cell_type": "code",
      "metadata": {
        "id": "RQOhRUqz7PaG",
        "colab_type": "code",
        "colab": {}
      },
      "source": [
        ""
      ],
      "execution_count": null,
      "outputs": []
    },
    {
      "cell_type": "markdown",
      "metadata": {
        "id": "nlwy-8dL74IJ",
        "colab_type": "text"
      },
      "source": [
        "# Part 2"
      ]
    },
    {
      "cell_type": "code",
      "metadata": {
        "id": "RvxFOTul00Xa",
        "colab_type": "code",
        "colab": {
          "base_uri": "https://localhost:8080/",
          "height": 575
        },
        "outputId": "734e84f4-ec97-4597-c448-1667c9e10ef3"
      },
      "source": [
        "# Barnsley's Fern\n",
        "# 1% of the time:x → 0,y → 0.16 y\n",
        "# 85% of the time:x → 0.85 x + 0.04 y, y → −0.04 x + 0.05 y + 1.6\n",
        "# 7% of the time:x → 0.2 x − 0.26 y, y → 0.23 x + 0.22 y + 1.6\n",
        "# 7% of the time:x → −0.15 x + 0.28 y, y → 0.26 x + 0.24 y + 0.44\n",
        "def pick(p):\n",
        "    c = np.cumsum(p)\n",
        "    return bisect(c, np.random.random() * c[-1]) #randomly bisects the matrix\n",
        "p = np.array([0.01,0.07,0.07,0.85])\n",
        "eq = [np.array([[0,0,0],[0,0.16,0]]),\n",
        "      np.array([[0.2,-0.26,0],[0.23,0.22,1.6]]),\n",
        "      np.array([[-0.15, 0.28, 0],[0.26,0.24,0.44]]), #defines matrix\n",
        "      np.array([[0.85, 0.04, 0],[-0.04, 0.85, 1.6]])]\n",
        "n = 2500 # Change this value and see what happens\n",
        "x = np.zeros((n,3))\n",
        "x[:,2] = 1  #makes an n by 3 matrix of 0's and then changes the last column to 1's\n",
        "for i in range(1,n):\n",
        "    x[i,:2] = np.matmul(eq[pick(p)],x[i-1,:]) #multiplies the two matricies and make the last column of x the resulting values\n",
        "plt.figure(figsize=(10,10))\n",
        "plt.scatter(x[:,0], x[:, 1], s=3, c=\"g\", marker=\"s\", linewidths=0)\n",
        "plt.axis(\"equal\"),plt.axis(\"off\"); #plots the values\n",
        "#Woah its a fern!"
      ],
      "execution_count": 94,
      "outputs": [
        {
          "output_type": "display_data",
          "data": {
            "image/png": "[encoded data removed]",
            "text/plain": [
              "<Figure size 720x720 with 1 Axes>"
            ]
          },
          "metadata": {
            "tags": [],
            "needs_background": "light"
          }
        }
      ]
    },
    {
      "cell_type": "code",
      "metadata": {
        "id": "Z9MxgJ5YnbLD",
        "colab_type": "code",
        "colab": {}
      },
      "source": [
        ""
      ],
      "execution_count": null,
      "outputs": []
    }
  ]
}